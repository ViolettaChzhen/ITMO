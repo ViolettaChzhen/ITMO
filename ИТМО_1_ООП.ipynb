{
  "nbformat": 4,
  "nbformat_minor": 0,
  "metadata": {
    "colab": {
      "provenance": []
    },
    "kernelspec": {
      "name": "python3",
      "display_name": "Python 3"
    },
    "language_info": {
      "name": "python"
    }
  },
  "cells": [
    {
      "cell_type": "code",
      "execution_count": null,
      "metadata": {
        "id": "KgKx6v_pcHNp"
      },
      "outputs": [],
      "source": [
        "class User():\n",
        "\n",
        "  '''Класс для Информации о пользователе'''\n",
        "\n",
        "  def __init__(self, name, surname):\n",
        "    self.name = name\n",
        "    self.surname = surname\n",
        "\n",
        "  def __str__(self) -> str:\n",
        "        return f\"Аккаунт: {self.name}, {self.surname}\"\n",
        "\n",
        "\n",
        "class UserBalance(User):\n",
        "\n",
        "  '''\n",
        "  Класс для баланса пользователя. Состояние баланса.\n",
        "  Пополнение и списание баланса. Возможность просмотра баланса\n",
        "  '''\n",
        "\n",
        "    def __init__(self, name, surname, balance):\n",
        "        super().__init__(name, surname)\n",
        "        self.__balance = balance\n",
        "\n",
        "\n",
        "    def balance_position(self, amount):\n",
        "\n",
        "      if amount > 0:\n",
        "        self.__balance += amount\n",
        "        print(f'Пополнение на сумму: {amount}')\n",
        "\n",
        "      else:\n",
        "        print('Сумма должна быть больше 0')\n",
        "\n",
        "\n",
        "    def write_off(self, amount):\n",
        "\n",
        "      if 0 < amount <= self.__balance:\n",
        "        self.__balance -= amount\n",
        "        print(f'Снятие на сумму: {amount}')\n",
        "      else:\n",
        "        print('Недостаточно средств или сумма некорректна')\n",
        "\n",
        "\n",
        "    def get_balance(self):\n",
        "      return self.__balance\n",
        "\n",
        "\n",
        "class ml_model():\n",
        "    '''\n",
        "    Класс для прогнозирования цены недвижимости на основе ML-модели.\n",
        "\n",
        "    Будущие атрибуты:\n",
        "        model: Обученная модель\n",
        "        features: Список используемых фичей\n",
        "    '''\n"
      ]
    }
  ]
}